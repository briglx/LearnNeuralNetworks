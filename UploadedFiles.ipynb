{
 "cells": [
  {
   "cell_type": "code",
   "execution_count": 18,
   "metadata": {},
   "outputs": [],
   "source": [
    "\n",
    "\n",
    "def getRemoteFileNames():\n",
    "\n",
    "    remoteFileNames=[]\n",
    "    \n",
    "    remoteFiles = !az storage blob list  --container-name raw-20180330 --account-key os.environ.get(\"RAW_VIDEO_STORAGE_ACCOUNT_KEY\") --account-name learnneuralnetworks  --output table  \n",
    "    \n",
    "    # Skip header information\n",
    "    for row in remoteFiles[2:]:\n",
    "        remoteFileNames.append(row.split()[0])\n",
    "    \n",
    "    return len(remoteFileNames), remoteFileNames\n",
    "\n",
    "\n",
    "def getLocalFileNames():\n",
    "    \n",
    "    localFileNames=[]\n",
    "    \n",
    "    localFiles = !dir os.environ.get(\"VIDEO_SOURCE\")\n",
    "  \n",
    "    # Skip header information\n",
    "    for row in localFiles[7:-2]: \n",
    "        localFileNames.append(row.split()[4])\n",
    "    \n",
    "    return len(localFileNames),  localFileNames\n",
    "\n",
    "def getFilesToUpload():\n",
    "    \n",
    "    rf_count, rf = getRemoteFileNames()\n",
    "    lf_count, lf = getLocalFileNames()\n",
    "    \n",
    "    toUploadFiles = set(lf) - set(rf)\n",
    "    \n",
    "    return len(toUploadFiles), toUploadFiles\n",
    "\n",
    "def getFileCountByDay(filesToUpload):\n",
    "    d = {}\n",
    "\n",
    "    for e in filesToUpload:\n",
    "        key = e[:8]    \n",
    "\n",
    "        if key in d:\n",
    "            d[key] += 1\n",
    "        else:\n",
    "            d[key] = 1\n",
    "    \n",
    "    return d\n",
    "    \n",
    "    \n",
    "    "
   ]
  },
  {
   "cell_type": "code",
   "execution_count": 23,
   "metadata": {},
   "outputs": [
    {
     "data": {
      "text/plain": [
       "2422"
      ]
     },
     "execution_count": 23,
     "metadata": {},
     "output_type": "execute_result"
    }
   ],
   "source": [
    "rf_count, rf = getRemoteFileNames()\n",
    "rf_count"
   ]
  },
  {
   "cell_type": "code",
   "execution_count": 12,
   "metadata": {},
   "outputs": [
    {
     "data": {
      "text/plain": [
       "2422"
      ]
     },
     "execution_count": 12,
     "metadata": {},
     "output_type": "execute_result"
    }
   ],
   "source": [
    "lf_count, lf = getLocalFileNames()\n",
    "lf_count"
   ]
  },
  {
   "cell_type": "code",
   "execution_count": 24,
   "metadata": {},
   "outputs": [
    {
     "data": {
      "text/plain": [
       "0"
      ]
     },
     "execution_count": 24,
     "metadata": {},
     "output_type": "execute_result"
    }
   ],
   "source": [
    "tuf_count, filesToUpload = getFilesToUpload()\n",
    "tuf_count"
   ]
  },
  {
   "cell_type": "code",
   "execution_count": 21,
   "metadata": {},
   "outputs": [
    {
     "name": "stdout",
     "output_type": "stream",
     "text": [
      "20180326 14\n"
     ]
    }
   ],
   "source": [
    "d = getFileCountByDay(filesToUpload)\n",
    "for key, value in d.items():\n",
    "    print(key, value)\n",
    "    \n"
   ]
  },
  {
   "cell_type": "code",
   "execution_count": null,
   "metadata": {},
   "outputs": [],
   "source": [
    "# 20180328 104\n",
    "# 20180326 337\n",
    "# 20180327 78"
   ]
  },
  {
   "cell_type": "code",
   "execution_count": null,
   "metadata": {},
   "outputs": [],
   "source": [
    "#Upload files by day\n",
    "for key, value in d.items():\n",
    "    out=!AzCopy /Source:os.environ.get(\"VIDEO_SOURCE\") /Dest:os.environ.get(\"RAW_VIDEO_SA_PATH\") /DestKey:os.environ.get(\"RAW_VIDEO_STORAGE_ACCOUNT_KEY\") /Pattern:{key}*  /V:logs/{key}.log  \n",
    "    print(out)   "
   ]
  },
  {
   "cell_type": "code",
   "execution_count": null,
   "metadata": {},
   "outputs": [],
   "source": [
    "# Upload files individually\n",
    "for fname in filesToUpload:\n",
    "    !AzCopy /Source:os.environ.get(\"VIDEO_SOURCE\") /Dest:os.environ.get(\"RAW_VIDEO_SA_PATH\") /DestKey:os.environ.get(\"RAW_VIDEO_STORAGE_ACCOUNT_KEY\")  /Pattern:{fname}  /V:logs/{fname}.log /Y\n",
    "        "
   ]
  },
  {
   "cell_type": "code",
   "execution_count": null,
   "metadata": {},
   "outputs": [],
   "source": [
    "folderName=\"Users\"\n",
    "!dir c:\\{folderName}"
   ]
  },
  {
   "cell_type": "code",
   "execution_count": 7,
   "metadata": {},
   "outputs": [
    {
     "data": {
      "text/plain": [
       "['[2018/04/04 08:20:38] Transfer summary:',\n",
       " '-----------------',\n",
       " 'Total files transferred: 1',\n",
       " 'Transfer successfully:   1',\n",
       " 'Transfer skipped:        0',\n",
       " 'Transfer failed:         0',\n",
       " 'Elapsed time:            00.00:01:13']"
      ]
     },
     "execution_count": 7,
     "metadata": {},
     "output_type": "execute_result"
    }
   ],
   "source": [
    "fname = \"20180327_071217_NF.mp4\"\n",
    "out=!AzCopy /Source:os.environ.get(\"VIDEO_SOURCE\") /Dest:os.environ.get(\"RAW_VIDEO_SA_PATH\") /DestKey:os.environ.get(\"RAW_VIDEO_STORAGE_ACCOUNT_KEY\") /Pattern:{fname}  /V:logs/{fname}3.log /Y\n",
    "out"
   ]
  },
  {
   "cell_type": "code",
   "execution_count": 8,
   "metadata": {},
   "outputs": [
    {
     "name": "stderr",
     "output_type": "stream",
     "text": [
      "'cat' is not recognized as an internal or external command,\n",
      "operable program or batch file.\n"
     ]
    }
   ],
   "source": []
  }
 ],
 "metadata": {
  "kernelspec": {
   "display_name": "Python 3",
   "language": "python",
   "name": "python3"
  },
  "language_info": {
   "codemirror_mode": {
    "name": "ipython",
    "version": 3
   },
   "file_extension": ".py",
   "mimetype": "text/x-python",
   "name": "python",
   "nbconvert_exporter": "python",
   "pygments_lexer": "ipython3",
   "version": "3.6.8"
  }
 },
 "nbformat": 4,
 "nbformat_minor": 2
}
