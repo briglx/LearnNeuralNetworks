{
 "cells": [
  {
   "cell_type": "code",
   "execution_count": 48,
   "metadata": {},
   "outputs": [],
   "source": [
    "import os\n",
    "import glob\n",
    "import shutil"
   ]
  },
  {
   "cell_type": "code",
   "execution_count": 49,
   "metadata": {},
   "outputs": [],
   "source": [
    "RAW_VIDEO_DIR = os.environ.get(\"RAW_VIDEO_DIR\") \n",
    "PIPELINE_VIDEO_DIR = HOME = os.environ.get(\"PIPELINE_VIDEO_DIR\")\n",
    "PREDICTION_NO_VEHICLE_IMAGE_DIR = os.environ.get(\"PREDICTION_NO_VEHICLE_IMAGE_DIR\")\n",
    "PREDICTION_VEHICLE_IMAGE_DIR = os.environ.get(\"PREDICTION_VEHICLE_IMAGE_DIR\")\n",
    "\n",
    "images_dirs = [PREDICTION_NO_VEHICLE_IMAGE_DIR, PREDICTION_VEHICLE_IMAGE_DIR]"
   ]
  },
  {
   "cell_type": "code",
   "execution_count": 50,
   "metadata": {},
   "outputs": [],
   "source": [
    "def get_video_name(full_filename):\n",
    "#     20190329_154113_EF.mp4.frame-001.png\n",
    "    filename = os.path.split(full_filename)[-1]\n",
    "    video_name = filename.split('.frame')[0]\n",
    "    return video_name"
   ]
  },
  {
   "cell_type": "code",
   "execution_count": 51,
   "metadata": {},
   "outputs": [],
   "source": [
    "def get_processed_videos():\n",
    "    processed_videos = []\n",
    "\n",
    "    for imagedir in images_dirs:\n",
    "        for file_name in glob.iglob(os.path.join(imagedir, '**/*.png'), recursive=True):   \n",
    "            video_name = get_video_name(file_name)\n",
    "            if video_name not in processed_videos:\n",
    "                processed_videos.append(video_name)\n",
    "\n",
    "    return processed_videos"
   ]
  },
  {
   "cell_type": "code",
   "execution_count": 52,
   "metadata": {},
   "outputs": [],
   "source": [
    "def get_unprocessed_videos(processed_videos):\n",
    "    unprocessed_videos = []\n",
    "    for full_filename in glob.iglob(os.path.join(RAW_VIDEO_DIR, '**/*.mp4'), recursive=True):  \n",
    "        file_name = os.path.split(full_filename)[-1]\n",
    "        if file_name not in processed_videos:\n",
    "            unprocessed_videos.append(file_name)\n",
    "    return(unprocessed_videos)"
   ]
  },
  {
   "cell_type": "code",
   "execution_count": 67,
   "metadata": {},
   "outputs": [],
   "source": [
    "def copy_raw_to_pipeline(unprocessed_videos, dest):\n",
    "    migrated_files = []\n",
    "    for file_name in unprocessed_videos:\n",
    "        shutil.copy(os.path.join(RAW_VIDEO_DIR,file_name), dest)\n",
    "        migrated_files.append(file_name)\n",
    "    return migrated_files"
   ]
  },
  {
   "cell_type": "code",
   "execution_count": 80,
   "metadata": {},
   "outputs": [
    {
     "name": "stdout",
     "output_type": "stream",
     "text": [
      "298 processed videos\n",
      "1147 Unprocessed videos\n"
     ]
    }
   ],
   "source": [
    "processed_videos = get_processed_videos()\n",
    "unprocessed_videos = get_unprocessed_videos(processed_videos)\n",
    "\n",
    "print(len(processed_videos), \"processed videos\")\n",
    "print(len(unprocessed_videos), \"Unprocessed videos\")\n",
    "\n",
    "# print(len(migrated_files))"
   ]
  },
  {
   "cell_type": "code",
   "execution_count": null,
   "metadata": {},
   "outputs": [],
   "source": [
    "migrated_files = copy_raw_to_pipeline(unprocessed_videos[:500], PIPELINE_VIDEO_DIR)"
   ]
  },
  {
   "cell_type": "code",
   "execution_count": 71,
   "metadata": {},
   "outputs": [
    {
     "data": {
      "text/plain": [
       "['20190330_120033_ER.mp4',\n",
       " '20190330_120133_NF.mp4',\n",
       " '20190330_120133_NR.mp4',\n",
       " '20190330_120219_ER.mp4',\n",
       " '20190330_120319_NF.mp4',\n",
       " '20190330_120319_NR.mp4',\n",
       " '20190330_120419_NF.mp4',\n",
       " '20190330_120419_NR.mp4',\n",
       " '20190330_120519_NF.mp4',\n",
       " '20190330_120519_NR.mp4']"
      ]
     },
     "execution_count": 71,
     "metadata": {},
     "output_type": "execute_result"
    }
   ],
   "source": [
    "migrated_files[:10]"
   ]
  },
  {
   "cell_type": "code",
   "execution_count": null,
   "metadata": {},
   "outputs": [],
   "source": []
  }
 ],
 "metadata": {
  "kernelspec": {
   "display_name": "Python 3",
   "language": "python",
   "name": "python3"
  },
  "language_info": {
   "codemirror_mode": {
    "name": "ipython",
    "version": 3
   },
   "file_extension": ".py",
   "mimetype": "text/x-python",
   "name": "python",
   "nbconvert_exporter": "python",
   "pygments_lexer": "ipython3",
   "version": "3.6.8"
  }
 },
 "nbformat": 4,
 "nbformat_minor": 2
}
