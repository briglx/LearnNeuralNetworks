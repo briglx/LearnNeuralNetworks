{
 "cells": [
  {
   "cell_type": "code",
   "execution_count": 2,
   "metadata": {},
   "outputs": [],
   "source": [
    "import numpy as np"
   ]
  },
  {
   "cell_type": "code",
   "execution_count": 11,
   "metadata": {},
   "outputs": [
    {
     "data": {
      "text/plain": [
       "array([[0.71650859, 0.97137368, 0.0990587 , 0.78630485, 0.28259677],\n",
       "       [0.63329509, 0.09542965, 0.3335535 , 0.28391305, 0.63722382],\n",
       "       [0.67558836, 0.17378588, 0.29820818, 0.89937915, 0.54000941],\n",
       "       ...,\n",
       "       [0.90818105, 0.68607036, 0.26067553, 0.19929316, 0.96610793],\n",
       "       [0.93999258, 0.43180264, 0.59631704, 0.05873384, 0.41514976],\n",
       "       [0.53616425, 0.9117036 , 0.03129277, 0.89350387, 0.58556149]])"
      ]
     },
     "execution_count": 11,
     "metadata": {},
     "output_type": "execute_result"
    }
   ],
   "source": [
    "data = np.random.rand(1000,5)\n",
    "\n",
    "data"
   ]
  },
  {
   "cell_type": "code",
   "execution_count": 12,
   "metadata": {},
   "outputs": [
    {
     "data": {
      "text/plain": [
       "array([[ 0.22576688,  0.48403674, -0.39143044,  0.28017122, -0.23222364],\n",
       "       [ 0.14255337, -0.39190729, -0.15693564, -0.22222058,  0.12240341],\n",
       "       [ 0.18484664, -0.31355106, -0.19228097,  0.39324552,  0.025189  ],\n",
       "       ...,\n",
       "       [ 0.41743933,  0.19873342, -0.22981362, -0.30684047,  0.45128752],\n",
       "       [ 0.44925086, -0.0555343 ,  0.1058279 , -0.44739979, -0.09967065],\n",
       "       [ 0.04542254,  0.42436665, -0.45919637,  0.38737024,  0.07074107]])"
      ]
     },
     "execution_count": 12,
     "metadata": {},
     "output_type": "execute_result"
    }
   ],
   "source": [
    "data -= data.mean(axis=0)\n",
    "data"
   ]
  },
  {
   "cell_type": "code",
   "execution_count": 13,
   "metadata": {},
   "outputs": [
    {
     "data": {
      "text/plain": [
       "array([[ 0.79255333,  1.64444325, -1.34864095,  0.9793056 , -0.82795145],\n",
       "       [ 0.50043281, -1.33144706, -0.54070868, -0.77674594,  0.43640724],\n",
       "       [ 0.6489031 , -1.06524337, -0.66248804,  1.37454353,  0.08980682],\n",
       "       ...,\n",
       "       [ 1.4654184 ,  0.67516741, -0.79180366, -1.07252481,  1.60898414],\n",
       "       [ 1.5770926 , -0.18866959,  0.36462122, -1.56383342, -0.3553577 ],\n",
       "       [ 0.15945556,  1.44172296, -1.58212282,  1.35400716,  0.25221453]])"
      ]
     },
     "execution_count": 13,
     "metadata": {},
     "output_type": "execute_result"
    }
   ],
   "source": [
    "data /= data.std(axis=0)\n",
    "data"
   ]
  },
  {
   "cell_type": "code",
   "execution_count": 3,
   "metadata": {},
   "outputs": [],
   "source": [
    "k = 4\n",
    "num_validation_samples = len(data) // k\n",
    "\n",
    "np.random.shuffle(data)\n",
    "\n",
    "validation_scores = []"
   ]
  },
  {
   "cell_type": "code",
   "execution_count": 4,
   "metadata": {},
   "outputs": [
    {
     "ename": "ValueError",
     "evalue": "operands could not be broadcast together with shapes (0,2) (750,2) ",
     "output_type": "error",
     "traceback": [
      "\u001b[1;31m---------------------------------------------------------------------------\u001b[0m",
      "\u001b[1;31mValueError\u001b[0m                                Traceback (most recent call last)",
      "\u001b[1;32m<ipython-input-4-cf3c260becfa>\u001b[0m in \u001b[0;36m<module>\u001b[1;34m()\u001b[0m\n\u001b[0;32m      1\u001b[0m \u001b[1;32mfor\u001b[0m \u001b[0mfold\u001b[0m \u001b[1;32min\u001b[0m \u001b[0mrange\u001b[0m\u001b[1;33m(\u001b[0m\u001b[0mk\u001b[0m\u001b[1;33m)\u001b[0m\u001b[1;33m:\u001b[0m\u001b[1;33m\u001b[0m\u001b[0m\n\u001b[0;32m      2\u001b[0m     \u001b[0mvalidation_data\u001b[0m \u001b[1;33m=\u001b[0m \u001b[0mdata\u001b[0m\u001b[1;33m[\u001b[0m\u001b[0mnum_validation_samples\u001b[0m \u001b[1;33m*\u001b[0m \u001b[0mfold\u001b[0m\u001b[1;33m:\u001b[0m \u001b[0mnum_validation_samples\u001b[0m \u001b[1;33m*\u001b[0m \u001b[1;33m(\u001b[0m\u001b[0mfold\u001b[0m \u001b[1;33m+\u001b[0m \u001b[1;36m1\u001b[0m\u001b[1;33m)\u001b[0m\u001b[1;33m]\u001b[0m\u001b[1;33m\u001b[0m\u001b[0m\n\u001b[1;32m----> 3\u001b[1;33m     \u001b[0mtraining_data\u001b[0m \u001b[1;33m=\u001b[0m \u001b[0mdata\u001b[0m\u001b[1;33m[\u001b[0m\u001b[1;33m:\u001b[0m\u001b[0mnum_validation_samples\u001b[0m \u001b[1;33m*\u001b[0m \u001b[0mfold\u001b[0m\u001b[1;33m]\u001b[0m \u001b[1;33m+\u001b[0m \u001b[0mdata\u001b[0m\u001b[1;33m[\u001b[0m\u001b[0mnum_validation_samples\u001b[0m \u001b[1;33m*\u001b[0m \u001b[1;33m(\u001b[0m\u001b[0mfold\u001b[0m \u001b[1;33m+\u001b[0m \u001b[1;36m1\u001b[0m\u001b[1;33m)\u001b[0m\u001b[1;33m:\u001b[0m\u001b[1;33m]\u001b[0m\u001b[1;33m\u001b[0m\u001b[0m\n\u001b[0m\u001b[0;32m      4\u001b[0m     \u001b[0mprint\u001b[0m\u001b[1;33m(\u001b[0m\u001b[0mvalidation_data\u001b[0m\u001b[1;33m.\u001b[0m\u001b[0mshape\u001b[0m\u001b[1;33m)\u001b[0m\u001b[1;33m\u001b[0m\u001b[0m\n",
      "\u001b[1;31mValueError\u001b[0m: operands could not be broadcast together with shapes (0,2) (750,2) "
     ]
    }
   ],
   "source": [
    "for fold in range(k):\n",
    "    validation_data = data[num_validation_samples * fold: num_validation_samples * (fold + 1)]   \n",
    "    training_data = data[:num_validation_samples * fold] + data[num_validation_samples * (fold + 1):] \n",
    "    print(validation_data.shape)"
   ]
  },
  {
   "cell_type": "code",
   "execution_count": 5,
   "metadata": {},
   "outputs": [],
   "source": [
    "c = np.random.rand(6)"
   ]
  },
  {
   "cell_type": "code",
   "execution_count": 6,
   "metadata": {},
   "outputs": [
    {
     "name": "stdout",
     "output_type": "stream",
     "text": [
      "[0.97618084]\n",
      "[0.24252952 0.01659506 0.00089619 0.1914711 ]\n"
     ]
    }
   ],
   "source": [
    "1\n",
    "print(c[:1])\n",
    "print(c[2:])"
   ]
  },
  {
   "cell_type": "code",
   "execution_count": 7,
   "metadata": {},
   "outputs": [
    {
     "name": "stdout",
     "output_type": "stream",
     "text": [
      "[0.97618084 0.58652203]\n",
      "[0.01659506 0.00089619 0.1914711 ]\n"
     ]
    }
   ],
   "source": [
    "2\n",
    "print(c[:2])\n",
    "print(c[3:])"
   ]
  },
  {
   "cell_type": "code",
   "execution_count": 8,
   "metadata": {},
   "outputs": [
    {
     "data": {
      "text/plain": [
       "array([0.00089619, 0.1914711 ])"
      ]
     },
     "execution_count": 8,
     "metadata": {},
     "output_type": "execute_result"
    }
   ],
   "source": [
    "c[4:]"
   ]
  },
  {
   "cell_type": "code",
   "execution_count": 5,
   "metadata": {},
   "outputs": [],
   "source": [
    "from keras.datasets import imdb\n",
    "\n",
    "(train_data, train_labels), (test_data, test_labels) = imdb.load_data(\n",
    "    num_words=10000)"
   ]
  },
  {
   "cell_type": "code",
   "execution_count": 6,
   "metadata": {},
   "outputs": [],
   "source": [
    "def vectorize_sequences(sequences, dimension=10000):\n",
    "    results = np.zeros((len(sequences), dimension))        \n",
    "    for i, sequence in enumerate(sequences):\n",
    "        results[i, sequence] = 1.                          \n",
    "    return results"
   ]
  },
  {
   "cell_type": "code",
   "execution_count": 8,
   "metadata": {},
   "outputs": [],
   "source": [
    "x_train = vectorize_sequences(train_data)  \n",
    "x_test = vectorize_sequences(test_data)\n",
    "y_train = np.asarray(train_labels).astype('float32')\n",
    "y_test = np.asarray(test_labels).astype('float32')"
   ]
  },
  {
   "cell_type": "code",
   "execution_count": 42,
   "metadata": {},
   "outputs": [],
   "source": [
    "from keras import models\n",
    "from keras import layers\n",
    "import tensorflow as tf\n",
    "\n",
    "model = models.Sequential()\n",
    "model.add(layers.Dense(4, activation='relu', input_shape=(10000,)))\n",
    "model.add(layers.Dense(4, activation='relu'))\n",
    "model.add(layers.Dense(1, activation='sigmoid'))\n",
    "\n",
    "model.compile(optimizer='rmsprop',\n",
    "              loss='binary_crossentropy',\n",
    "              metrics=['accuracy'])"
   ]
  },
  {
   "cell_type": "code",
   "execution_count": 43,
   "metadata": {},
   "outputs": [],
   "source": [
    "# Split out validation\n",
    "x_val = x_train[:10000]\n",
    "partial_x_train = x_train[10000:]\n",
    "y_val = y_train[:10000]\n",
    "partial_y_train = y_train[10000:]"
   ]
  },
  {
   "cell_type": "code",
   "execution_count": 44,
   "metadata": {},
   "outputs": [
    {
     "name": "stdout",
     "output_type": "stream",
     "text": [
      "Train on 15000 samples, validate on 10000 samples\n",
      "Epoch 1/20\n",
      "15000/15000 [==============================] - 92s 6ms/step - loss: 0.6060 - acc: 0.7676 - val_loss: 0.5302 - val_acc: 0.8227\n",
      "Epoch 2/20\n",
      "15000/15000 [==============================] - 4s 265us/step - loss: 0.4609 - acc: 0.8791 - val_loss: 0.4329 - val_acc: 0.8642\n",
      "Epoch 3/20\n",
      "15000/15000 [==============================] - 4s 253us/step - loss: 0.3681 - acc: 0.9021 - val_loss: 0.3696 - val_acc: 0.8747\n",
      "Epoch 4/20\n",
      "15000/15000 [==============================] - 4s 254us/step - loss: 0.3056 - acc: 0.9133 - val_loss: 0.3310 - val_acc: 0.8821\n",
      "Epoch 5/20\n",
      "15000/15000 [==============================] - 4s 273us/step - loss: 0.2610 - acc: 0.9247 - val_loss: 0.3113 - val_acc: 0.8809\n",
      "Epoch 6/20\n",
      "15000/15000 [==============================] - 4s 282us/step - loss: 0.2272 - acc: 0.9316 - val_loss: 0.3007 - val_acc: 0.8819\n",
      "Epoch 7/20\n",
      "15000/15000 [==============================] - 4s 288us/step - loss: 0.2010 - acc: 0.9392 - val_loss: 0.2813 - val_acc: 0.8892\n",
      "Epoch 8/20\n",
      "15000/15000 [==============================] - 4s 264us/step - loss: 0.1789 - acc: 0.9467 - val_loss: 0.2764 - val_acc: 0.8886\n",
      "Epoch 9/20\n",
      "15000/15000 [==============================] - 4s 264us/step - loss: 0.1588 - acc: 0.9537 - val_loss: 0.2737 - val_acc: 0.8892\n",
      "Epoch 10/20\n",
      "15000/15000 [==============================] - 4s 252us/step - loss: 0.1412 - acc: 0.9588 - val_loss: 0.2781 - val_acc: 0.8872\n",
      "Epoch 11/20\n",
      "15000/15000 [==============================] - 4s 247us/step - loss: 0.1261 - acc: 0.9649 - val_loss: 0.2771 - val_acc: 0.8900\n",
      "Epoch 12/20\n",
      "15000/15000 [==============================] - 4s 248us/step - loss: 0.1128 - acc: 0.9691 - val_loss: 0.2812 - val_acc: 0.8896\n",
      "Epoch 13/20\n",
      "15000/15000 [==============================] - 4s 248us/step - loss: 0.1006 - acc: 0.9737 - val_loss: 0.2877 - val_acc: 0.8881\n",
      "Epoch 14/20\n",
      "15000/15000 [==============================] - 4s 248us/step - loss: 0.0902 - acc: 0.9775 - val_loss: 0.2960 - val_acc: 0.8866\n",
      "Epoch 15/20\n",
      "15000/15000 [==============================] - 4s 248us/step - loss: 0.0807 - acc: 0.9799 - val_loss: 0.3061 - val_acc: 0.8868\n",
      "Epoch 16/20\n",
      "15000/15000 [==============================] - 4s 276us/step - loss: 0.0723 - acc: 0.9830 - val_loss: 0.3164 - val_acc: 0.8855\n",
      "Epoch 17/20\n",
      "15000/15000 [==============================] - 4s 248us/step - loss: 0.0640 - acc: 0.9855 - val_loss: 0.3330 - val_acc: 0.8824\n",
      "Epoch 18/20\n",
      "15000/15000 [==============================] - 4s 250us/step - loss: 0.0570 - acc: 0.9875 - val_loss: 0.3479 - val_acc: 0.8811\n",
      "Epoch 19/20\n",
      "15000/15000 [==============================] - 4s 253us/step - loss: 0.0508 - acc: 0.9899 - val_loss: 0.3498 - val_acc: 0.8831\n",
      "Epoch 20/20\n",
      "15000/15000 [==============================] - 4s 255us/step - loss: 0.0444 - acc: 0.9915 - val_loss: 0.3683 - val_acc: 0.8807\n"
     ]
    }
   ],
   "source": [
    "with tf.Session(config=tf.ConfigProto(log_device_placement=True)):\n",
    "\n",
    "    history = model.fit(partial_x_train,\n",
    "                        partial_y_train,\n",
    "                        epochs=20,\n",
    "                        batch_size=512,\n",
    "                        validation_data=(x_val, y_val))"
   ]
  },
  {
   "cell_type": "code",
   "execution_count": 37,
   "metadata": {},
   "outputs": [
    {
     "data": {
      "image/png": "[encoded data removed]",
      "text/plain": [
       "<matplotlib.figure.Figure at 0x24a0d0be048>"
      ]
     },
     "metadata": {},
     "output_type": "display_data"
    }
   ],
   "source": [
    "import matplotlib.pyplot as plt\n",
    "\n",
    "history_dict = history.history\n",
    "loss_values = history_dict['loss']\n",
    "val_loss_values_small = history_dict['val_loss']\n",
    "acc = history_dict['acc']\n",
    "val_acc = history_dict['acc']\n",
    "\n",
    "\n",
    "\n",
    "epochs = range(1, len(acc) + 1)\n",
    "\n",
    "plt.plot(epochs, val_loss_values_small, 'bx', label='Smaller Model')           \n",
    "plt.plot(epochs, val_loss_values, 'bo', label='Original Model')      \n",
    "plt.title('Training and validation loss')\n",
    "plt.xlabel('Epochs')\n",
    "plt.ylabel('Loss')\n",
    "plt.legend()\n",
    "\n",
    "plt.show()\n"
   ]
  },
  {
   "cell_type": "code",
   "execution_count": 15,
   "metadata": {},
   "outputs": [
    {
     "data": {
      "text/plain": [
       "[name: \"/device:CPU:0\"\n",
       " device_type: \"CPU\"\n",
       " memory_limit: 268435456\n",
       " locality {\n",
       " }\n",
       " incarnation: 3030267609334469853, name: \"/device:GPU:0\"\n",
       " device_type: \"GPU\"\n",
       " memory_limit: 206553088\n",
       " locality {\n",
       "   bus_id: 1\n",
       " }\n",
       " incarnation: 2082932716900519767\n",
       " physical_device_desc: \"device: 0, name: GeForce GPU, pci bus id: 0000:01:00.0, compute capability: 5.0\"]"
      ]
     },
     "execution_count": 15,
     "metadata": {},
     "output_type": "execute_result"
    }
   ],
   "source": []
  },
  {
   "cell_type": "code",
   "execution_count": null,
   "metadata": {},
   "outputs": [],
   "source": []
  }
 ],
 "metadata": {
  "kernelspec": {
   "display_name": "Python 3",
   "language": "python",
   "name": "python3"
  },
  "language_info": {
   "codemirror_mode": {
    "name": "ipython",
    "version": 3
   },
   "file_extension": ".py",
   "mimetype": "text/x-python",
   "name": "python",
   "nbconvert_exporter": "python",
   "pygments_lexer": "ipython3",
   "version": "3.6.8"
  }
 },
 "nbformat": 4,
 "nbformat_minor": 2
}
