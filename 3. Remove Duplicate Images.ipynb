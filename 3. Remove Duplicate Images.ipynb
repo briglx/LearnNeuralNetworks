{
 "cells": [
  {
   "cell_type": "markdown",
   "metadata": {},
   "source": [
    "# 3. Remove Duplicate Images\n",
    "\n",
    "This step is to help with training data. After steps 1 and 2, there are many many small images many which are duplicates. This step will reduce the size to more unique images and hopefully remove all duplicates\n",
    "\n",
    "The technique is to find an image hash to compare. While iterating over all the images, check if the has has been found, if so, remove the image."
   ]
  },
  {
   "cell_type": "code",
   "execution_count": 1,
   "metadata": {},
   "outputs": [
    {
     "ename": "ModuleNotFoundError",
     "evalue": "No module named 'skimage'",
     "output_type": "error",
     "traceback": [
      "\u001b[1;31m---------------------------------------------------------------------------\u001b[0m",
      "\u001b[1;31mModuleNotFoundError\u001b[0m                       Traceback (most recent call last)",
      "\u001b[1;32m<ipython-input-1-37075d341aca>\u001b[0m in \u001b[0;36m<module>\u001b[1;34m\u001b[0m\n\u001b[0;32m     10\u001b[0m \u001b[1;33m\u001b[0m\u001b[0m\n\u001b[0;32m     11\u001b[0m \u001b[1;32mfrom\u001b[0m \u001b[0mPIL\u001b[0m \u001b[1;32mimport\u001b[0m \u001b[0mImage\u001b[0m\u001b[1;33m\u001b[0m\u001b[1;33m\u001b[0m\u001b[0m\n\u001b[1;32m---> 12\u001b[1;33m \u001b[1;32mfrom\u001b[0m \u001b[0mskimage\u001b[0m \u001b[1;32mimport\u001b[0m \u001b[0mio\u001b[0m\u001b[1;33m\u001b[0m\u001b[1;33m\u001b[0m\u001b[0m\n\u001b[0m\u001b[0;32m     13\u001b[0m \u001b[1;33m\u001b[0m\u001b[0m\n\u001b[0;32m     14\u001b[0m \u001b[1;32mfrom\u001b[0m \u001b[0mskimage\u001b[0m \u001b[1;32mimport\u001b[0m \u001b[0mtransform\u001b[0m \u001b[1;32mas\u001b[0m \u001b[0mskitr\u001b[0m\u001b[1;33m\u001b[0m\u001b[1;33m\u001b[0m\u001b[0m\n",
      "\u001b[1;31mModuleNotFoundError\u001b[0m: No module named 'skimage'"
     ]
    }
   ],
   "source": [
    "import inspect\n",
    "import os\n",
    "import sys\n",
    "\n",
    "import cv2\n",
    "import numpy as np\n",
    "\n",
    "import matplotlib.pyplot as plt\n",
    "%matplotlib inline\n",
    "\n",
    "from PIL import Image\n",
    "from skimage import io\n",
    "\n",
    "from skimage import transform as skitr\n",
    "\n",
    "import glob"
   ]
  },
  {
   "cell_type": "code",
   "execution_count": 2,
   "metadata": {},
   "outputs": [],
   "source": [
    "# filename = inspect.getframeinfo(inspect.currentframe()).filename\n",
    "HOME = os.environ.get('HOME_PATH')\n",
    "FRAMES_PATH = os.path.join(HOME, \"frames\")\n",
    "WINDOWS_PATH = os.path.join(HOME, \"windows\")\n",
    "NOT_LABELED__PATH = os.path.join(HOME, \"labeled\", \"not-labeled\")\n",
    "# SAMPLE_VIDEO = '20180326_071212_NF.mp4'\n",
    "# SAMPLE_IMAGE = 'frame-006.png'\n",
    "# SAMPLE_IMAGE_PATH = os.path.join(FRAMES_PATH, SAMPLE_VIDEO, SAMPLE_IMAGE)"
   ]
  },
  {
   "cell_type": "code",
   "execution_count": 3,
   "metadata": {},
   "outputs": [],
   "source": [
    "def getImage(path):\n",
    "#     image = cv2.imread(path)\n",
    "#     image = image.reshape((50, 100,3))\n",
    "    image = Image.open(path)\n",
    "    return image\n",
    "\n",
    "def showImage(image):\n",
    "#     image = image[:, :, ::-1] # Swap R and B channels. Converts from BGR to RGB\n",
    "    plt.figure(num=None, figsize=(10 ,10), dpi=80, facecolor='w', edgecolor='k')\n",
    "    plt.imshow( image )\n",
    "\n",
    "def rgb2gray(rgb):\n",
    "    return np.dot(rgb, [0.299, 0.587, 0.114])\n",
    "\n",
    "def rgb2gray2(rgb):\n",
    "    grey = np.dot(rgb, [0.299, 0.587, 0.114])\n",
    "    return np.stack((grey,)*3, -1)\n",
    "    return np.repeat(grey, 3).reshape(50, 100, 3)\n",
    "\n"
   ]
  },
  {
   "cell_type": "markdown",
   "metadata": {},
   "source": [
    "Test Method to Scale and greyscale"
   ]
  },
  {
   "cell_type": "code",
   "execution_count": 4,
   "metadata": {},
   "outputs": [],
   "source": [
    "# Test different ways to open greyscale\n",
    "\n",
    "def showGrayScaleImage(fileName):\n",
    "    \n",
    "    origialImage = io.imread(fileName)\n",
    "    \n",
    "    cv2Image = image = cv2.imread(fileName).reshape((50,100,3))\n",
    "    \n",
    "    pillowImage = Image.open(fileName).convert('LA')\n",
    "    \n",
    "    skImage = io.imread((fileName), as_grey=True)\n",
    "        \n",
    "    rgb2grayImage = rgb2gray(origialImage)\n",
    "    rgb2grayImage2 = rgb2gray2(origialImage)\n",
    "\n",
    "\n",
    "    fig, axes = plt.subplots(nrows=2, ncols=3)\n",
    "    axes[0, 0].set_title('Normal Image')\n",
    "    axes[0, 0].imshow(origialImage, cmap='gray')\n",
    "    axes[0, 0].axis('off')\n",
    "    \n",
    "    axes[0, 1].set_title('CV2 Image')\n",
    "    axes[0, 1].imshow(cv2Image, cmap='gray')\n",
    "    axes[0, 1].axis('off')\n",
    "    \n",
    "    axes[0, 2].set_title('Pillow Image')\n",
    "    axes[0, 2].imshow(pillowImage, cmap='gray')\n",
    "    axes[0, 2].axis('off')\n",
    "    \n",
    "    axes[1, 0].set_title('skimage Image')\n",
    "    axes[1, 0].imshow(skImage, cmap='gray')\n",
    "    axes[1, 0].axis('off')\n",
    "\n",
    "    axes[1, 1].set_title('Rgb2Gray Image')\n",
    "    axes[1, 1].imshow(rgb2grayImage, cmap='gray')\n",
    "    axes[1, 1].axis('off')\n",
    "\n",
    "    axes[1, 2].set_title('Rgb2Gray2 Image')\n",
    "    axes[1, 2].imshow(rgb2grayImage2, cmap='gray')\n",
    "    axes[1, 2].axis('off')\n",
    "\n",
    "    fig.tight_layout()\n",
    "    plt.show()\n",
    "\n"
   ]
  },
  {
   "cell_type": "code",
   "execution_count": 5,
   "metadata": {},
   "outputs": [
    {
     "ename": "NameError",
     "evalue": "name 'SAMPLE_VIDEO' is not defined",
     "output_type": "error",
     "traceback": [
      "\u001b[1;31m---------------------------------------------------------------------------\u001b[0m",
      "\u001b[1;31mNameError\u001b[0m                                 Traceback (most recent call last)",
      "\u001b[1;32m<ipython-input-5-d85c4d0714bf>\u001b[0m in \u001b[0;36m<module>\u001b[1;34m()\u001b[0m\n\u001b[0;32m      1\u001b[0m \u001b[0mframeName\u001b[0m \u001b[1;33m=\u001b[0m \u001b[1;34m'frame-006.png'\u001b[0m\u001b[1;33m\u001b[0m\u001b[0m\n\u001b[1;32m----> 2\u001b[1;33m \u001b[0mfileName\u001b[0m \u001b[1;33m=\u001b[0m \u001b[0mos\u001b[0m\u001b[1;33m.\u001b[0m\u001b[0mpath\u001b[0m\u001b[1;33m.\u001b[0m\u001b[0mjoin\u001b[0m\u001b[1;33m(\u001b[0m\u001b[0mHOME\u001b[0m\u001b[1;33m,\u001b[0m \u001b[1;34m\"windows\"\u001b[0m\u001b[1;33m,\u001b[0m \u001b[0mSAMPLE_VIDEO\u001b[0m\u001b[1;33m,\u001b[0m \u001b[0mframeName\u001b[0m\u001b[1;33m,\u001b[0m \u001b[1;34m'20180326_071212_NF-006-1-1020-680.jpg'\u001b[0m\u001b[1;33m)\u001b[0m\u001b[1;33m\u001b[0m\u001b[0m\n\u001b[0m\u001b[0;32m      3\u001b[0m \u001b[0mshowGrayScaleImage\u001b[0m\u001b[1;33m(\u001b[0m\u001b[0mfileName\u001b[0m\u001b[1;33m)\u001b[0m\u001b[1;33m\u001b[0m\u001b[0m\n",
      "\u001b[1;31mNameError\u001b[0m: name 'SAMPLE_VIDEO' is not defined"
     ]
    }
   ],
   "source": [
    "frameName = 'frame-006.png'\n",
    "fileName = os.path.join(HOME, \"windows\", SAMPLE_VIDEO, frameName, '20180326_071212_NF-006-1-1020-680.jpg')\n",
    "showGrayScaleImage(fileName)"
   ]
  },
  {
   "cell_type": "code",
   "execution_count": 6,
   "metadata": {},
   "outputs": [],
   "source": [
    "def resizeImage(image, hash_size=8):\n",
    "    image = cv2.resize(image, (hash_size + 1, hash_size)) \n",
    "    return image\n",
    "\n",
    "def showThumbnail(fileName):\n",
    "    hash_size=8\n",
    "    \n",
    "    # Each method will: load, greyscale, resize\n",
    "    \n",
    "    cv2Image = cv2.imread(fileName)\n",
    "    cv2Image = cv2.cvtColor(cv2Image, cv2.COLOR_BGR2GRAY)                            \n",
    "    cv2Image = cv2.resize(cv2Image, (hash_size +1 , hash_size))\n",
    "    \n",
    "    pillowImage = Image.open(fileName)\n",
    "    pillowImage = pillowImage.convert('LA')\n",
    "    pillowImage = pillowImage.resize((9,8))\n",
    "\n",
    "    skImage = io.imread(fileName, as_grey=True)\n",
    "    skImage = skitr.resize(skImage, (hash_size, hash_size+1))\n",
    "                                     \n",
    "     #  Use CV2 to load and resize image as original\n",
    "    originalImage = resizeImage(cv2.imread(fileName))   \n",
    "    rgb2grayImage = rgb2gray(originalImage)\n",
    "    rgb2grayImage2 = rgb2gray2(originalImage)                               \n",
    "\n",
    "    # Display the images\n",
    "    fig, axes = plt.subplots(nrows=2, ncols=3)\n",
    "    axes[0, 0].set_title('Original Image')\n",
    "    axes[0, 0].imshow(originalImage, cmap='gray')\n",
    "    axes[0, 0].axis('off')\n",
    "                                     \n",
    "    axes[0, 1].set_title('CV2 Image')\n",
    "    axes[0, 1].imshow(cv2Image, cmap='gray')\n",
    "    axes[0, 1].axis('off')\n",
    "                                     \n",
    "    axes[0, 2].set_title('Pillow Image')\n",
    "    axes[0, 2].imshow(pillowImage, cmap='gray')\n",
    "    axes[0, 2].axis('off')\n",
    "                                     \n",
    "    axes[1, 0].set_title('skimage Image')\n",
    "    axes[1, 0].imshow(skImage, cmap='gray')\n",
    "    axes[1, 0].axis('off')\n",
    "\n",
    "    axes[1, 1].set_title('Rgb2Gray Image')\n",
    "    axes[1, 1].imshow(rgb2grayImage, cmap='gray')\n",
    "    axes[1, 1].axis('off')\n",
    "\n",
    "    axes[1, 2].set_title('Rgb2Gray2 Image')\n",
    "    axes[1, 2].imshow(rgb2grayImage2, cmap='gray')\n",
    "    axes[1, 2].axis('off')\n",
    "\n",
    "    fig.tight_layout()\n",
    "    plt.show()\n"
   ]
  },
  {
   "cell_type": "code",
   "execution_count": 7,
   "metadata": {},
   "outputs": [
    {
     "ename": "NameError",
     "evalue": "name 'SAMPLE_VIDEO' is not defined",
     "output_type": "error",
     "traceback": [
      "\u001b[1;31m---------------------------------------------------------------------------\u001b[0m",
      "\u001b[1;31mNameError\u001b[0m                                 Traceback (most recent call last)",
      "\u001b[1;32m<ipython-input-7-47c4052b18ce>\u001b[0m in \u001b[0;36m<module>\u001b[1;34m()\u001b[0m\n\u001b[1;32m----> 1\u001b[1;33m \u001b[0mfileName1\u001b[0m \u001b[1;33m=\u001b[0m \u001b[0mos\u001b[0m\u001b[1;33m.\u001b[0m\u001b[0mpath\u001b[0m\u001b[1;33m.\u001b[0m\u001b[0mjoin\u001b[0m\u001b[1;33m(\u001b[0m\u001b[0mHOME\u001b[0m\u001b[1;33m,\u001b[0m \u001b[1;34m\"windows\"\u001b[0m\u001b[1;33m,\u001b[0m \u001b[0mSAMPLE_VIDEO\u001b[0m\u001b[1;33m,\u001b[0m \u001b[0mframeName\u001b[0m\u001b[1;33m,\u001b[0m \u001b[1;34m'20180326_071212_NF-006-4-100-100.jpg'\u001b[0m\u001b[1;33m)\u001b[0m\u001b[1;33m\u001b[0m\u001b[0m\n\u001b[0m\u001b[0;32m      2\u001b[0m \u001b[0mshowThumbnail\u001b[0m\u001b[1;33m(\u001b[0m\u001b[0mfileName1\u001b[0m\u001b[1;33m)\u001b[0m\u001b[1;33m\u001b[0m\u001b[0m\n",
      "\u001b[1;31mNameError\u001b[0m: name 'SAMPLE_VIDEO' is not defined"
     ]
    }
   ],
   "source": [
    "fileName1 = os.path.join(HOME, \"windows\", SAMPLE_VIDEO, frameName, '20180326_071212_NF-006-4-100-100.jpg')\n",
    "showThumbnail(fileName1)"
   ]
  },
  {
   "cell_type": "code",
   "execution_count": null,
   "metadata": {
    "scrolled": true
   },
   "outputs": [],
   "source": [
    "fileName2 = os.path.join(HOME, \"windows\", SAMPLE_VIDEO, frameName, '20180326_071212_NF-006-1-100-100.jpg')\n",
    "showThumbnail(fileName2)"
   ]
  },
  {
   "cell_type": "code",
   "execution_count": null,
   "metadata": {},
   "outputs": [],
   "source": [
    "fileName3 = os.path.join(HOME, \"windows\", SAMPLE_VIDEO, frameName, '20180326_071212_NF-006-1-1000-800.jpg')\n",
    "showThumbnail(fileName3)"
   ]
  },
  {
   "cell_type": "code",
   "execution_count": null,
   "metadata": {},
   "outputs": [],
   "source": [
    "fileName4 = os.path.join(HOME, \"windows\", SAMPLE_VIDEO, frameName, '20180326_071212_NF-006-6-20-20.jpg')\n",
    "showThumbnail(fileName4)"
   ]
  },
  {
   "cell_type": "code",
   "execution_count": null,
   "metadata": {},
   "outputs": [],
   "source": [
    "testimage = np.random.random((8, 8, 3))\n",
    "testimage = (testimage * [255, 255, 255]).round()\n",
    "showImage(testimage)"
   ]
  },
  {
   "cell_type": "code",
   "execution_count": null,
   "metadata": {},
   "outputs": [],
   "source": [
    "def dhash(image, hash_size = 8):\n",
    "    # Grayscale and shrink the image.\n",
    "    \n",
    "    image = image.convert('LA')\n",
    "    image = image.resize((hash_size+1,hash_size))\n",
    "   \n",
    "    pixels = [pixel for pixel, alpha in image.getdata()]\n",
    "    pixels = np.array(pixels).reshape((8, 9))\n",
    "    \n",
    "    #pixels = image\n",
    "    # Compare adjacent pixels.\n",
    "    difference = []\n",
    "    for row in range(hash_size):\n",
    "        for col in range(hash_size):\n",
    "            pixel_left = pixels[row, col]\n",
    "            pixel_right = pixels[row, col + 1]\n",
    "            difference.append(pixel_left > pixel_right)\n",
    "    # Convert the binary array to a hexadecimal string.\n",
    "    decimal_value = 0\n",
    "    hex_string = []\n",
    "    \n",
    "    for index, value in enumerate(difference):\n",
    "        if value:\n",
    "            decimal_value += 2**(index % 8)\n",
    "        if (index % 8) == 7:\n",
    "            hex_string.append(hex(decimal_value)[2:].rjust(2, '0'))\n",
    "            decimal_value = 0\n",
    "    return ''.join(hex_string)"
   ]
  },
  {
   "cell_type": "code",
   "execution_count": null,
   "metadata": {},
   "outputs": [],
   "source": [
    "print(dhash(testimage))"
   ]
  },
  {
   "cell_type": "code",
   "execution_count": null,
   "metadata": {},
   "outputs": [],
   "source": [
    "testImagePath1 = os.path.join(HOME, \"windows\", \"20180326_071412_NF.mp4\", \"frame-001.png\", '20180326_071412_NF-001-1-0-0.jpg')\n",
    "testImagePath2 = os.path.join(HOME, \"windows\", \"20180326_071412_NF.mp4\", \"frame-002.png\", '20180326_071412_NF-002-1-0-0.jpg')"
   ]
  },
  {
   "cell_type": "code",
   "execution_count": null,
   "metadata": {},
   "outputs": [],
   "source": [
    "testImage1 = getImage(testImagePath1)\n",
    "plt.imshow( testImage1 )"
   ]
  },
  {
   "cell_type": "code",
   "execution_count": null,
   "metadata": {},
   "outputs": [],
   "source": [
    "dhash(testImage1)"
   ]
  },
  {
   "cell_type": "code",
   "execution_count": null,
   "metadata": {},
   "outputs": [],
   "source": [
    "testImage2 = getImage(testImagePath2)\n",
    "plt.imshow( testImage2 )\n",
    "print(dhash(testImage2))"
   ]
  },
  {
   "cell_type": "code",
   "execution_count": null,
   "metadata": {},
   "outputs": [],
   "source": [
    "testImagePath3 = os.path.join(HOME, \"windows\", \"20180326_071412_NF.mp4\", \"frame-002.png\", '20180326_071412_NF-002-1-20-20.jpg')\n",
    "testImage3 = getImage(testImagePath3)\n",
    "plt.imshow( testImage3 )\n",
    "print(dhash(testImage3))"
   ]
  },
  {
   "cell_type": "code",
   "execution_count": null,
   "metadata": {},
   "outputs": [],
   "source": [
    "hash_size=8\n",
    "print(\"testiamge\")\n",
    "print(list(testImage1.getdata())[:10])\n",
    "\n",
    "testImageBW = testImage1.convert('LA')\n",
    "print(\"bw\")\n",
    "print(list(testImageBW.getdata())[:10])\n",
    "\n",
    "\n",
    "testImageBWRZ = testImageBW.resize((hash_size+1,hash_size))\n",
    "print(\"Resize\")\n",
    "print(list(testImageBWRZ.getdata())[:10])\n",
    "\n",
    "pixels = list(testImageBWRZ.getdata())\n",
    "print(\"pixes\")\n",
    "print(pixels[:10])\n",
    "\n",
    "\n",
    "pixels = [i for i, a in testImageBWRZ.getdata()]\n",
    "\n",
    "pixels = np.array(pixels).reshape((8, 9))\n",
    "print(pixels)\n",
    "pixels[1,2]"
   ]
  },
  {
   "cell_type": "code",
   "execution_count": null,
   "metadata": {},
   "outputs": [],
   "source": [
    "# Add image hash to dictionary\n",
    "imageDictionary = dict()\n",
    "\n",
    "i = 0\n",
    "# Iterate over images in \\src\\LearnNeuralNetworks\\windows subfolders.\n",
    "for filename in glob.iglob(os.path.join(NOT_LABELED__PATH, '**/*.jpg'), recursive=True):\n",
    "    img = getImage(filename)\n",
    "    idx = dhash(img)\n",
    "    if idx not in imageDictionary:\n",
    "        imageDictionary[idx] = []\n",
    "        \n",
    "    else: \n",
    "        os.remove(filename)\n",
    "        i += 1\n",
    "    imageDictionary[idx].append(filename)\n",
    "    \n",
    "print(\"removed \" +str(i) + \" files\")"
   ]
  },
  {
   "cell_type": "code",
   "execution_count": null,
   "metadata": {},
   "outputs": [],
   "source": []
  },
  {
   "cell_type": "markdown",
   "metadata": {},
   "source": [
    "# References\n",
    "\n",
    "- DHash explaination http://www.hackerfactor.com/blog/index.php?/archives/529-Kind-of-Like-That.html\n",
    "- DHash implementation https://gist.github.com/dudaerich/eaf275eed32d386c0dcd\n",
    "- Convert RGB to grayscale https://en.wikipedia.org/wiki/Grayscale#Converting_color_to_grayscale"
   ]
  }
 ],
 "metadata": {
  "kernelspec": {
   "display_name": "Python 3",
   "language": "python",
   "name": "python3"
  },
  "language_info": {
   "codemirror_mode": {
    "name": "ipython",
    "version": 3
   },
   "file_extension": ".py",
   "mimetype": "text/x-python",
   "name": "python",
   "nbconvert_exporter": "python",
   "pygments_lexer": "ipython3",
   "version": "3.6.8"
  }
 },
 "nbformat": 4,
 "nbformat_minor": 2
}
